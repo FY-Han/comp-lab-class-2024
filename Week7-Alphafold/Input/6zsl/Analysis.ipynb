{
 "cells": [
  {
   "cell_type": "code",
   "execution_count": 28,
   "id": "8a34944f-b181-4e5f-ba2f-c9bfd930da79",
   "metadata": {},
   "outputs": [
    {
     "name": "stdout",
     "output_type": "stream",
     "text": [
      "Amino acids within 0.5 nm of RNA phosphate atoms:\n",
      "Protein residue: SER312, RNA residue: U6 (Atom SER312-CA, Atom U6-P)\n",
      "Protein residue: HIS313, RNA residue: U6 (Atom HIS313-CA, Atom U6-P)\n",
      "Protein residue: PRO337, RNA residue: U8 (Atom PRO337-CA, Atom U8-P)\n",
      "Protein residue: ALA338, RNA residue: U8 (Atom ALA338-CA, Atom U8-P)\n",
      "Protein residue: TYR517, RNA residue: U3 (Atom TYR517-CA, Atom U3-P)\n",
      "Protein residue: ASN518, RNA residue: U3 (Atom ASN518-CA, Atom U3-P)\n",
      "\n",
      "Amino acids within 0.5 nm of RNA uracil oxygen atoms:\n",
      "Protein residue: ALA409, RNA residue: U4 (Atom ALA409-CA, Atom U4-O2)\n",
      "Protein residue: THR412, RNA residue: U3 (Atom THR412-CA, Atom U3-O4)\n"
     ]
    }
   ],
   "source": [
    "# Import necessary libraries\n",
    "import mdtraj as md\n",
    "import numpy as np\n",
    "\n",
    "# Load the PDB structure file (6ZSL)\n",
    "pdb_path = 'fold_2024_10_17_14_54_6zsl_atp_rna_model_0.pdb'  # Ensure this is the correct path to your PDB file\n",
    "traj = md.load(pdb_path)\n",
    "\n",
    "# Select RNA phosphate atoms (atom names: P) and uracil oxygen atoms (atom names: O2, O4)\n",
    "rna_phosphate_atoms = traj.topology.select(\"name P and resname A U C G\")\n",
    "uracil_oxygen_atoms = traj.topology.select(\"resname U and (name O2 or name O4)\")\n",
    "\n",
    "# Select protein CA atoms\n",
    "protein_atoms = traj.topology.select(\"protein and name CA\")\n",
    "\n",
    "# Compute the distances between all protein atoms and RNA phosphate atoms\n",
    "distances_phosphate = md.compute_distances(traj, [(i, j) for i in protein_atoms for j in rna_phosphate_atoms])\n",
    "\n",
    "# Filter distances below the threshold of 0.5 nm\n",
    "close_contacts_phosphate = [(i, j) for (i, j), dist in zip([(i, j) for i in protein_atoms for j in rna_phosphate_atoms], distances_phosphate[0]) if dist < 0.5]\n",
    "\n",
    "# Compute the distances between all protein atoms and uracil oxygen atoms\n",
    "distances_uracil = md.compute_distances(traj, [(i, j) for i in protein_atoms for j in uracil_oxygen_atoms])\n",
    "\n",
    "# Filter distances below the threshold of 0.5 nm\n",
    "close_contacts_uracil = [(i, j) for (i, j), dist in zip([(i, j) for i in protein_atoms for j in uracil_oxygen_atoms], distances_uracil[0]) if dist < 0.5]\n",
    "\n",
    "# Print close contacts for phosphate interactions\n",
    "print(\"Amino acids within 0.5 nm of RNA phosphate atoms:\")\n",
    "for (i, j) in close_contacts_phosphate:\n",
    "    protein_residue = traj.topology.atom(i).residue\n",
    "    rna_residue = traj.topology.atom(j).residue\n",
    "    print(f\"Protein residue: {protein_residue}, RNA residue: {rna_residue} (Atom {traj.topology.atom(i)}, Atom {traj.topology.atom(j)})\")\n",
    "\n",
    "# Print close contacts for uracil oxygen interactions\n",
    "print(\"\\nAmino acids within 0.5 nm of RNA uracil oxygen atoms:\")\n",
    "for (i, j) in close_contacts_uracil:\n",
    "    protein_residue = traj.topology.atom(i).residue\n",
    "    rna_residue = traj.topology.atom(j).residue\n",
    "    print(f\"Protein residue: {protein_residue}, RNA residue: {rna_residue} (Atom {traj.topology.atom(i)}, Atom {traj.topology.atom(j)})\")\n"
   ]
  }
 ],
 "metadata": {
  "kernelspec": {
   "display_name": "lab_env_2024",
   "language": "python",
   "name": "lab_env_2024"
  },
  "language_info": {
   "codemirror_mode": {
    "name": "ipython",
    "version": 3
   },
   "file_extension": ".py",
   "mimetype": "text/x-python",
   "name": "python",
   "nbconvert_exporter": "python",
   "pygments_lexer": "ipython3",
   "version": "3.9.12"
  }
 },
 "nbformat": 4,
 "nbformat_minor": 5
}
