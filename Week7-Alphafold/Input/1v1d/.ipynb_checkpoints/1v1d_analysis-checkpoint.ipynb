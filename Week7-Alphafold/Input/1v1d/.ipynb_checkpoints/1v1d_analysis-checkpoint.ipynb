{
 "cells": [
  {
   "cell_type": "code",
   "execution_count": 1,
   "id": "a4d94399-38dc-40d6-a8fd-a237d42560a8",
   "metadata": {},
   "outputs": [],
   "source": [
    "import mdtraj as md\n",
    "import numpy as np\n",
    "import matplotlib.pyplot as plt\n",
    "\n",
    "# 自动生成所有 40 个 PDB 文件的路径\n",
    "pdb_files = [\n",
    "    f\"1v1d_af2/1v1d_af2_40predictions_5c7bb_unrelaxed_rank_{i:03d}_alphafold2_ptm_model_{model}_seed_{seed:03d}.pdb\"\n",
    "    for i, model, seed in zip(range(1, 41),\n",
    "                              [4, 4, 3, 3, 4, 4, 4, 4, 4, 3,\n",
    "                               2, 4, 3, 1, 1, 3, 2, 1, 1, 3,\n",
    "                               3, 3, 2, 1, 1, 2, 2, 5, 1, 2,\n",
    "                               5, 1, 5, 5, 5, 5, 5, 2, 2, 5],\n",
    "                              [5, 3, 5, 3, 1, 2, 6, 4, 0, 2,\n",
    "                               0, 7, 6, 2, 0, 1, 6, 3, 4, 4,\n",
    "                               7, 0, 3, 1, 7, 4, 7, 6, 5, 1,\n",
    "                               0, 6, 5, 3, 4, 7, 2, 5, 2, 1])\n",
    "]"
   ]
  },
  {
   "cell_type": "code",
   "execution_count": 2,
   "id": "4c620ff5-a104-4d33-920b-92ae22049118",
   "metadata": {},
   "outputs": [],
   "source": [
    "# 加载所有的结构\n",
    "trajectories = [md.load(pdb) for pdb in pdb_files]\n",
    "\n",
    "# 选择第一个 PDB 作为参考结构\n",
    "reference = trajectories[0]\n",
    "\n",
    "# 对齐所有结构到参考结构\n",
    "for traj in trajectories:\n",
    "    traj.superpose(reference)\n",
    "\n",
    "# 选择 Cα 原子\n",
    "ca_indices = reference.topology.select(\"name CA\")"
   ]
  },
  {
   "cell_type": "code",
   "execution_count": 3,
   "id": "b5cff693-6e30-483d-92c7-1d3436cafd9c",
   "metadata": {},
   "outputs": [
    {
     "ename": "AttributeError",
     "evalue": "'numpy.ndarray' object has no attribute 'xyz'",
     "output_type": "error",
     "traceback": [
      "\u001b[0;31m---------------------------------------------------------------------------\u001b[0m",
      "\u001b[0;31mAttributeError\u001b[0m                            Traceback (most recent call last)",
      "Cell \u001b[0;32mIn [3], line 5\u001b[0m\n\u001b[1;32m      2\u001b[0m rmsf_list \u001b[38;5;241m=\u001b[39m []\n\u001b[1;32m      3\u001b[0m \u001b[38;5;28;01mfor\u001b[39;00m traj \u001b[38;5;129;01min\u001b[39;00m trajectories:\n\u001b[1;32m      4\u001b[0m     \u001b[38;5;66;03m# 这里不再需要调用 .superpose()，因为 traj 已经对齐\u001b[39;00m\n\u001b[0;32m----> 5\u001b[0m     rmsf_values \u001b[38;5;241m=\u001b[39m \u001b[43mmd\u001b[49m\u001b[38;5;241;43m.\u001b[39;49m\u001b[43mrmsf\u001b[49m\u001b[43m(\u001b[49m\u001b[43mtraj\u001b[49m\u001b[43m,\u001b[49m\u001b[43m \u001b[49m\u001b[43mca_indices\u001b[49m\u001b[43m)\u001b[49m  \u001b[38;5;66;03m# 计算 RMSF\u001b[39;00m\n\u001b[1;32m      6\u001b[0m     rmsf_list\u001b[38;5;241m.\u001b[39mappend(rmsf_values)\n\u001b[1;32m      8\u001b[0m \u001b[38;5;66;03m# 计算 RMSF 的平均值\u001b[39;00m\n",
      "File \u001b[0;32mmdtraj/rmsd/_rmsd.pyx:311\u001b[0m, in \u001b[0;36mmdtraj._rmsd.rmsf\u001b[0;34m()\u001b[0m\n",
      "\u001b[0;31mAttributeError\u001b[0m: 'numpy.ndarray' object has no attribute 'xyz'"
     ]
    }
   ],
   "source": [
    "# 计算 RMSF (Cα 原子)\n",
    "rmsf_list = []\n",
    "for traj in trajectories:\n",
    "    # 这里不再需要调用 .superpose()，因为 traj 已经对齐\n",
    "    rmsf_values = md.rmsf(traj, ca_indices)  # 计算 RMSF\n",
    "    rmsf_list.append(rmsf_values)\n",
    "\n",
    "# 计算 RMSF 的平均值\n",
    "rmsf = np.mean(rmsf_list, axis=0)\n",
    "\n",
    "# 获取残基编号\n",
    "topology = reference.topology\n",
    "residue_ids = [res.index for res in topology.residues if res.is_protein]"
   ]
  },
  {
   "cell_type": "code",
   "execution_count": null,
   "id": "2acf8f2f-98f8-49e1-86fb-921a3cd8447b",
   "metadata": {},
   "outputs": [],
   "source": [
    "# 绘制 RMSF 与残基编号的关系图\n",
    "plt.plot(residue_ids, rmsf)\n",
    "plt.xlabel('Residue Number')\n",
    "plt.ylabel('RMSF (nm)')\n",
    "plt.title('RMSF vs Residue Number for AF2 Models')\n",
    "plt.show()"
   ]
  }
 ],
 "metadata": {
  "kernelspec": {
   "display_name": "lab_env_2024",
   "language": "python",
   "name": "lab_env_2024"
  },
  "language_info": {
   "codemirror_mode": {
    "name": "ipython",
    "version": 3
   },
   "file_extension": ".py",
   "mimetype": "text/x-python",
   "name": "python",
   "nbconvert_exporter": "python",
   "pygments_lexer": "ipython3",
   "version": "3.9.12"
  }
 },
 "nbformat": 4,
 "nbformat_minor": 5
}
