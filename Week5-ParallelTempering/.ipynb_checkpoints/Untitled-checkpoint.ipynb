{
 "cells": [
  {
   "cell_type": "code",
   "execution_count": null,
   "id": "1177a56d-e38c-4a24-b618-6193b17ce883",
   "metadata": {},
   "outputs": [],
   "source": [
    "import mdtraj as md\n",
    "import numpy as np\n",
    "import matplotlib.pyplot as plt\n",
    "\n",
    "# Load your trajectory data\n",
    "# Replace 'trajectory.xtc' with the actual trajectory file and 'topology.pdb' with your topology file\n",
    "traj = md.load('adp_T300.xtc', top='adp.gro')\n",
    "\n",
    "# Compute phi and psi angles for all residues\n",
    "phi_indices, phi_angles = md.compute_phi(traj)\n",
    "psi_indices, psi_angles = md.compute_psi(traj)\n",
    "\n",
    "# Time values (assuming time step = 0.002 ps for each frame)\n",
    "time = np.arange(traj.n_frames) * 0.002  # Convert to ns if needed (e.g., 0.002 ps)\n",
    "\n",
    "# Plot phi angles\n",
    "plt.figure(figsize=(10, 5))\n",
    "for i in range(phi_angles.shape[1]):\n",
    "    plt.plot(time, np.rad2deg(phi_angles[:, i]), label=f'Residue {i + 1}')\n",
    "plt.xlabel('Time (ns)')\n",
    "plt.ylabel('Phi Angle (degrees)')\n",
    "plt.title('Phi Angle vs Time')\n",
    "plt.legend(loc='upper right')\n",
    "plt.show()\n",
    "\n",
    "# Plot psi angles\n",
    "plt.figure(figsize=(10, 5))\n",
    "for i in range(psi_angles.shape[1]):\n",
    "    plt.plot(time, np.rad2deg(psi_angles[:, i]), label=f'Residue {i + 1}')\n",
    "plt.xlabel('Time (ns)')\n",
    "plt.ylabel('Psi Angle (degrees)')\n",
    "plt.title('Psi Angle vs Time')\n",
    "plt.legend(loc='upper right')\n",
    "plt.show()\n"
   ]
  },
  {
   "cell_type": "code",
   "execution_count": 2,
   "id": "856a6526-ca7c-4bc1-90c9-094a70c76cac",
   "metadata": {},
   "outputs": [
    {
     "name": "stdout",
     "output_type": "stream",
     "text": [
      "Assignment.md  \u001b[0m\u001b[01;34mInputs\u001b[0m/  Untitled.ipynb\n"
     ]
    }
   ],
   "source": []
  }
 ],
 "metadata": {
  "kernelspec": {
   "display_name": "lab_env_2024",
   "language": "python",
   "name": "lab_env_2024"
  },
  "language_info": {
   "codemirror_mode": {
    "name": "ipython",
    "version": 3
   },
   "file_extension": ".py",
   "mimetype": "text/x-python",
   "name": "python",
   "nbconvert_exporter": "python",
   "pygments_lexer": "ipython3",
   "version": "3.9.12"
  }
 },
 "nbformat": 4,
 "nbformat_minor": 5
}
