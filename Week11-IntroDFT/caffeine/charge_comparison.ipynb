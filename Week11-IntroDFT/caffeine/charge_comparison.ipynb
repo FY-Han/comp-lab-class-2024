{
 "cells": [
  {
   "cell_type": "code",
   "execution_count": 1,
   "metadata": {},
   "outputs": [],
   "source": [
    "import os\n",
    "import sys\n",
    "import pandas as pd\n",
    "import numpy as np\n",
    "from rdkit import Chem\n",
    "from rdkit.Chem.Draw import IPythonConsole"
   ]
  },
  {
   "cell_type": "code",
   "execution_count": 2,
   "metadata": {},
   "outputs": [],
   "source": [
    "from psikit import Psikit"
   ]
  },
  {
   "cell_type": "code",
   "execution_count": 3,
   "metadata": {},
   "outputs": [
    {
     "name": "stdout",
     "output_type": "stream",
     "text": [
      "\n",
      "  Memory set to  11.176 GiB by Python driver.\n",
      "  Threads set to 1 by Python driver.\n"
     ]
    }
   ],
   "source": [
    "pk=Psikit(debug=True,threads=1,memory=12)"
   ]
  },
  {
   "cell_type": "code",
   "execution_count": 4,
   "metadata": {},
   "outputs": [],
   "source": [
    "pk.read_from_smiles('Cn1cnc2c1c(=O)n(C)c(=O)n2C')"
   ]
  },
  {
   "cell_type": "code",
   "execution_count": 5,
   "metadata": {},
   "outputs": [
    {
     "name": "stdout",
     "output_type": "stream",
     "text": [
      "Optimizer: Optimization complete!\n"
     ]
    },
    {
     "data": {
      "text/plain": [
       "-676.3571174777509"
      ]
     },
     "execution_count": 5,
     "metadata": {},
     "output_type": "execute_result"
    }
   ],
   "source": [
    "pk.optimize()"
   ]
  },
  {
   "cell_type": "code",
   "execution_count": 6,
   "metadata": {},
   "outputs": [
    {
     "data": {
      "image/png": "[encoded data removed]",
      "text/plain": [
       "<rdkit.Chem.rdchem.Mol at 0x14fd3d02e400>"
      ]
     },
     "execution_count": 6,
     "metadata": {},
     "output_type": "execute_result"
    }
   ],
   "source": [
    "pk.mol"
   ]
  },
  {
   "cell_type": "code",
   "execution_count": 7,
   "metadata": {},
   "outputs": [
    {
     "name": "stdout",
     "output_type": "stream",
     "text": [
      "[-0.20810013  0.0675267   0.08393883 -0.46785215  0.12070423 -0.09084116\n",
      "  0.35834394 -0.494953   -0.04696923 -0.0287763   0.3700033  -0.53027839\n",
      "  0.01788366  0.01153958  0.11234479  0.11234479  0.11234479  0.17379156\n",
      "  0.06012364  0.06012364  0.06012364  0.04887776  0.04887776  0.04887776]\n",
      "[-0.11403352 -0.69386549  0.38638214 -0.62282364  0.63502253  0.09325533\n",
      "  0.89980952 -0.63013298 -0.87906304 -0.12347222  1.09568164 -0.62726201\n",
      " -0.87748849 -0.12043555  0.16726998  0.12972956  0.1672722   0.18241308\n",
      "  0.17514696  0.14565782  0.14558394  0.16748217  0.14852428  0.14934578]\n",
      "[-0.1321191  -0.05264132  0.07837135 -0.27561806  0.14000198 -0.12526106\n",
      "  0.29285343 -0.3940503  -0.18759221 -0.13842825  0.3479691  -0.39844372\n",
      " -0.15248971 -0.13201088  0.11679984  0.10376711  0.11774969  0.12082536\n",
      "  0.12159857  0.10704074  0.10596548  0.11963418  0.10812268  0.1079551 ]\n"
     ]
    }
   ],
   "source": [
    "#caculate chages\n",
    "print(pk.calc_resp_charges())\n",
    "print(pk.calc_mulliken_charges())\n",
    "print(pk.calc_lowdin_charges())"
   ]
  },
  {
   "cell_type": "code",
   "execution_count": 8,
   "metadata": {},
   "outputs": [],
   "source": [
    "mol = pk.mol\n",
    "atoms = mol.GetAtoms()"
   ]
  },
  {
   "cell_type": "code",
   "execution_count": 9,
   "metadata": {},
   "outputs": [],
   "source": [
    "data = {'Symbol':[atom.GetSymbol() for atom in atoms],\n",
    "        'RESP': [float(atom.GetProp('RESP')) for atom in atoms],\n",
    "        'MULLIKEN': [float(atom.GetProp('MULLIKEN')) for atom in atoms],\n",
    "       'LOWDIN':  [float(atom.GetProp('LOWDIN')) for atom in atoms]}"
   ]
  },
  {
   "cell_type": "code",
   "execution_count": 10,
   "metadata": {},
   "outputs": [],
   "source": [
    "df = pd.DataFrame(data)"
   ]
  },
  {
   "cell_type": "code",
   "execution_count": 11,
   "metadata": {},
   "outputs": [
    {
     "data": {
      "text/html": [
       "<div>\n",
       "<style scoped>\n",
       "    .dataframe tbody tr th:only-of-type {\n",
       "        vertical-align: middle;\n",
       "    }\n",
       "\n",
       "    .dataframe tbody tr th {\n",
       "        vertical-align: top;\n",
       "    }\n",
       "\n",
       "    .dataframe thead th {\n",
       "        text-align: right;\n",
       "    }\n",
       "</style>\n",
       "<table border=\"1\" class=\"dataframe\">\n",
       "  <thead>\n",
       "    <tr style=\"text-align: right;\">\n",
       "      <th></th>\n",
       "      <th>Symbol</th>\n",
       "      <th>RESP</th>\n",
       "      <th>MULLIKEN</th>\n",
       "      <th>LOWDIN</th>\n",
       "    </tr>\n",
       "  </thead>\n",
       "  <tbody>\n",
       "    <tr>\n",
       "      <th>0</th>\n",
       "      <td>C</td>\n",
       "      <td>-0.208</td>\n",
       "      <td>-0.114</td>\n",
       "      <td>-0.132</td>\n",
       "    </tr>\n",
       "    <tr>\n",
       "      <th>1</th>\n",
       "      <td>N</td>\n",
       "      <td>0.068</td>\n",
       "      <td>-0.694</td>\n",
       "      <td>-0.053</td>\n",
       "    </tr>\n",
       "    <tr>\n",
       "      <th>2</th>\n",
       "      <td>C</td>\n",
       "      <td>0.084</td>\n",
       "      <td>0.386</td>\n",
       "      <td>0.078</td>\n",
       "    </tr>\n",
       "    <tr>\n",
       "      <th>3</th>\n",
       "      <td>N</td>\n",
       "      <td>-0.468</td>\n",
       "      <td>-0.623</td>\n",
       "      <td>-0.276</td>\n",
       "    </tr>\n",
       "    <tr>\n",
       "      <th>4</th>\n",
       "      <td>C</td>\n",
       "      <td>0.121</td>\n",
       "      <td>0.635</td>\n",
       "      <td>0.140</td>\n",
       "    </tr>\n",
       "    <tr>\n",
       "      <th>5</th>\n",
       "      <td>C</td>\n",
       "      <td>-0.091</td>\n",
       "      <td>0.093</td>\n",
       "      <td>-0.125</td>\n",
       "    </tr>\n",
       "    <tr>\n",
       "      <th>6</th>\n",
       "      <td>C</td>\n",
       "      <td>0.358</td>\n",
       "      <td>0.900</td>\n",
       "      <td>0.293</td>\n",
       "    </tr>\n",
       "    <tr>\n",
       "      <th>7</th>\n",
       "      <td>O</td>\n",
       "      <td>-0.495</td>\n",
       "      <td>-0.630</td>\n",
       "      <td>-0.394</td>\n",
       "    </tr>\n",
       "    <tr>\n",
       "      <th>8</th>\n",
       "      <td>N</td>\n",
       "      <td>-0.047</td>\n",
       "      <td>-0.879</td>\n",
       "      <td>-0.188</td>\n",
       "    </tr>\n",
       "    <tr>\n",
       "      <th>9</th>\n",
       "      <td>C</td>\n",
       "      <td>-0.029</td>\n",
       "      <td>-0.123</td>\n",
       "      <td>-0.138</td>\n",
       "    </tr>\n",
       "    <tr>\n",
       "      <th>10</th>\n",
       "      <td>C</td>\n",
       "      <td>0.370</td>\n",
       "      <td>1.096</td>\n",
       "      <td>0.348</td>\n",
       "    </tr>\n",
       "    <tr>\n",
       "      <th>11</th>\n",
       "      <td>O</td>\n",
       "      <td>-0.530</td>\n",
       "      <td>-0.627</td>\n",
       "      <td>-0.398</td>\n",
       "    </tr>\n",
       "    <tr>\n",
       "      <th>12</th>\n",
       "      <td>N</td>\n",
       "      <td>0.018</td>\n",
       "      <td>-0.877</td>\n",
       "      <td>-0.152</td>\n",
       "    </tr>\n",
       "    <tr>\n",
       "      <th>13</th>\n",
       "      <td>C</td>\n",
       "      <td>0.012</td>\n",
       "      <td>-0.120</td>\n",
       "      <td>-0.132</td>\n",
       "    </tr>\n",
       "    <tr>\n",
       "      <th>14</th>\n",
       "      <td>H</td>\n",
       "      <td>0.112</td>\n",
       "      <td>0.167</td>\n",
       "      <td>0.117</td>\n",
       "    </tr>\n",
       "    <tr>\n",
       "      <th>15</th>\n",
       "      <td>H</td>\n",
       "      <td>0.112</td>\n",
       "      <td>0.130</td>\n",
       "      <td>0.104</td>\n",
       "    </tr>\n",
       "    <tr>\n",
       "      <th>16</th>\n",
       "      <td>H</td>\n",
       "      <td>0.112</td>\n",
       "      <td>0.167</td>\n",
       "      <td>0.118</td>\n",
       "    </tr>\n",
       "    <tr>\n",
       "      <th>17</th>\n",
       "      <td>H</td>\n",
       "      <td>0.174</td>\n",
       "      <td>0.182</td>\n",
       "      <td>0.121</td>\n",
       "    </tr>\n",
       "    <tr>\n",
       "      <th>18</th>\n",
       "      <td>H</td>\n",
       "      <td>0.060</td>\n",
       "      <td>0.175</td>\n",
       "      <td>0.122</td>\n",
       "    </tr>\n",
       "    <tr>\n",
       "      <th>19</th>\n",
       "      <td>H</td>\n",
       "      <td>0.060</td>\n",
       "      <td>0.146</td>\n",
       "      <td>0.107</td>\n",
       "    </tr>\n",
       "    <tr>\n",
       "      <th>20</th>\n",
       "      <td>H</td>\n",
       "      <td>0.060</td>\n",
       "      <td>0.146</td>\n",
       "      <td>0.106</td>\n",
       "    </tr>\n",
       "    <tr>\n",
       "      <th>21</th>\n",
       "      <td>H</td>\n",
       "      <td>0.049</td>\n",
       "      <td>0.167</td>\n",
       "      <td>0.120</td>\n",
       "    </tr>\n",
       "    <tr>\n",
       "      <th>22</th>\n",
       "      <td>H</td>\n",
       "      <td>0.049</td>\n",
       "      <td>0.149</td>\n",
       "      <td>0.108</td>\n",
       "    </tr>\n",
       "    <tr>\n",
       "      <th>23</th>\n",
       "      <td>H</td>\n",
       "      <td>0.049</td>\n",
       "      <td>0.149</td>\n",
       "      <td>0.108</td>\n",
       "    </tr>\n",
       "  </tbody>\n",
       "</table>\n",
       "</div>"
      ],
      "text/plain": [
       "   Symbol   RESP  MULLIKEN  LOWDIN\n",
       "0       C -0.208    -0.114  -0.132\n",
       "1       N  0.068    -0.694  -0.053\n",
       "2       C  0.084     0.386   0.078\n",
       "3       N -0.468    -0.623  -0.276\n",
       "4       C  0.121     0.635   0.140\n",
       "5       C -0.091     0.093  -0.125\n",
       "6       C  0.358     0.900   0.293\n",
       "7       O -0.495    -0.630  -0.394\n",
       "8       N -0.047    -0.879  -0.188\n",
       "9       C -0.029    -0.123  -0.138\n",
       "10      C  0.370     1.096   0.348\n",
       "11      O -0.530    -0.627  -0.398\n",
       "12      N  0.018    -0.877  -0.152\n",
       "13      C  0.012    -0.120  -0.132\n",
       "14      H  0.112     0.167   0.117\n",
       "15      H  0.112     0.130   0.104\n",
       "16      H  0.112     0.167   0.118\n",
       "17      H  0.174     0.182   0.121\n",
       "18      H  0.060     0.175   0.122\n",
       "19      H  0.060     0.146   0.107\n",
       "20      H  0.060     0.146   0.106\n",
       "21      H  0.049     0.167   0.120\n",
       "22      H  0.049     0.149   0.108\n",
       "23      H  0.049     0.149   0.108"
      ]
     },
     "execution_count": 11,
     "metadata": {},
     "output_type": "execute_result"
    }
   ],
   "source": [
    "df.round(3)"
   ]
  },
  {
   "cell_type": "code",
   "execution_count": 12,
   "metadata": {},
   "outputs": [],
   "source": [
    "%matplotlib inline\n",
    "import matplotlib.pyplot as plt"
   ]
  },
  {
   "cell_type": "code",
   "execution_count": 13,
   "metadata": {},
   "outputs": [],
   "source": [
    "plt.style.use('ggplot')"
   ]
  },
  {
   "cell_type": "code",
   "execution_count": 15,
   "metadata": {},
   "outputs": [
    {
     "data": {
      "image/png": "[encoded data removed]",
      "text/plain": [
       "<Figure size 500x500 with 1 Axes>"
      ]
     },
     "metadata": {},
     "output_type": "display_data"
    }
   ],
   "source": [
    "import seaborn as sns\n",
    "import matplotlib.pyplot as plt\n",
    "import numpy as np\n",
    "from scipy.stats import pearsonr\n",
    "\n",
    "# Calculate the correlation coefficient\n",
    "correlation, _ = pearsonr(df['RESP'], df['MULLIKEN'])\n",
    "\n",
    "# Scatter plot with regression line\n",
    "sns.lmplot(x='RESP', y='MULLIKEN', data=df, line_kws={'color': 'blue'}, scatter_kws={'s': 10})\n",
    "plt.xlabel('RESP')\n",
    "plt.ylabel('MULLIKEN')\n",
    "plt.title(f'Correlation between RESP and MULLIKEN charges: r = {correlation:.2f}')\n",
    "\n",
    "plt.show()\n"
   ]
  }
 ],
 "metadata": {
  "kernelspec": {
   "display_name": "lab_env_2024",
   "language": "python",
   "name": "lab_env_2024"
  },
  "language_info": {
   "codemirror_mode": {
    "name": "ipython",
    "version": 3
   },
   "file_extension": ".py",
   "mimetype": "text/x-python",
   "name": "python",
   "nbconvert_exporter": "python",
   "pygments_lexer": "ipython3",
   "version": "3.9.12"
  }
 },
 "nbformat": 4,
 "nbformat_minor": 4
}
